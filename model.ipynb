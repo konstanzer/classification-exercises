{
 "cells": [
  {
   "cell_type": "code",
   "execution_count": 1,
   "id": "dominant-mirror",
   "metadata": {},
   "outputs": [],
   "source": [
    "import pandas as pd\n",
    "import numpy as np\n",
    "import matplotlib.pyplot as plt\n",
    "\n",
    "from sklearn.tree import DecisionTreeClassifier\n",
    "from sklearn.tree import plot_tree\n",
    "from sklearn.model_selection import train_test_split\n",
    "from sklearn.metrics import plot_confusion_matrix\n",
    "from sklearn.metrics import classification_report\n",
    "from sklearn.metrics import plot_roc_curve\n",
    "\n",
    "from imblearn.over_sampling import RandomOverSampler\n",
    "from imblearn.over_sampling import SMOTE"
   ]
  },
  {
   "cell_type": "markdown",
   "id": "circular-stand",
   "metadata": {},
   "source": [
    "### Classifier models\n",
    "\n",
    "1. [Tree](#tree)\n",
    "2. [Forest](#forest)\n",
    "3. [kNN](#knn)\n",
    "4. [Logistic](#log)"
   ]
  },
  {
   "cell_type": "code",
   "execution_count": 2,
   "id": "subsequent-phenomenon",
   "metadata": {},
   "outputs": [
    {
     "name": "stdout",
     "output_type": "stream",
     "text": [
      "<class 'pandas.core.frame.DataFrame'>\n",
      "Int64Index: 891 entries, 0 to 890\n",
      "Data columns (total 13 columns):\n",
      " #   Column        Non-Null Count  Dtype  \n",
      "---  ------        --------------  -----  \n",
      " 0   passenger_id  891 non-null    int64  \n",
      " 1   survived      891 non-null    int64  \n",
      " 2   pclass        891 non-null    int64  \n",
      " 3   sex           891 non-null    object \n",
      " 4   age           714 non-null    float64\n",
      " 5   sibsp         891 non-null    int64  \n",
      " 6   parch         891 non-null    int64  \n",
      " 7   fare          891 non-null    float64\n",
      " 8   embarked      889 non-null    object \n",
      " 9   class         891 non-null    object \n",
      " 10  deck          203 non-null    object \n",
      " 11  embark_town   889 non-null    object \n",
      " 12  alone         891 non-null    int64  \n",
      "dtypes: float64(2), int64(6), object(5)\n",
      "memory usage: 97.5+ KB\n"
     ]
    }
   ],
   "source": [
    "df = pd.read_csv(\"titanic.csv\", index_col=0)\n",
    "df.info()"
   ]
  },
  {
   "cell_type": "code",
   "execution_count": 3,
   "id": "covered-butter",
   "metadata": {},
   "outputs": [
    {
     "data": {
      "text/plain": [
       "passenger_id      0\n",
       "survived          0\n",
       "pclass            0\n",
       "sex               0\n",
       "age             177\n",
       "sibsp             0\n",
       "parch             0\n",
       "fare              0\n",
       "embarked          2\n",
       "class             0\n",
       "deck            688\n",
       "embark_town       2\n",
       "alone             0\n",
       "dtype: int64"
      ]
     },
     "execution_count": 3,
     "metadata": {},
     "output_type": "execute_result"
    }
   ],
   "source": [
    "#missing values\n",
    "np.sum(df.isna())"
   ]
  },
  {
   "cell_type": "code",
   "execution_count": 4,
   "id": "spare-helmet",
   "metadata": {},
   "outputs": [],
   "source": [
    "#there\n",
    "df.age = df.age.fillna(df.age.mean())"
   ]
  },
  {
   "cell_type": "code",
   "execution_count": 5,
   "id": "amber-links",
   "metadata": {},
   "outputs": [],
   "source": [
    "df=df.drop(columns=['deck', 'embark_town'])\n",
    "df=df.dropna(axis=0)"
   ]
  },
  {
   "cell_type": "code",
   "execution_count": 6,
   "id": "tired-intersection",
   "metadata": {},
   "outputs": [],
   "source": [
    "df2=pd.get_dummies(df, drop_first=True)\n",
    "labels=df2.pop('survived')"
   ]
  },
  {
   "cell_type": "code",
   "execution_count": 7,
   "id": "southwest-protest",
   "metadata": {},
   "outputs": [
    {
     "data": {
      "text/html": [
       "<div>\n",
       "<style scoped>\n",
       "    .dataframe tbody tr th:only-of-type {\n",
       "        vertical-align: middle;\n",
       "    }\n",
       "\n",
       "    .dataframe tbody tr th {\n",
       "        vertical-align: top;\n",
       "    }\n",
       "\n",
       "    .dataframe thead th {\n",
       "        text-align: right;\n",
       "    }\n",
       "</style>\n",
       "<table border=\"1\" class=\"dataframe\">\n",
       "  <thead>\n",
       "    <tr style=\"text-align: right;\">\n",
       "      <th></th>\n",
       "      <th>passenger_id</th>\n",
       "      <th>pclass</th>\n",
       "      <th>age</th>\n",
       "      <th>sibsp</th>\n",
       "      <th>parch</th>\n",
       "      <th>fare</th>\n",
       "      <th>alone</th>\n",
       "      <th>sex_male</th>\n",
       "      <th>embarked_Q</th>\n",
       "      <th>embarked_S</th>\n",
       "      <th>class_Second</th>\n",
       "      <th>class_Third</th>\n",
       "    </tr>\n",
       "  </thead>\n",
       "  <tbody>\n",
       "    <tr>\n",
       "      <th>0</th>\n",
       "      <td>0</td>\n",
       "      <td>3</td>\n",
       "      <td>22.0</td>\n",
       "      <td>1</td>\n",
       "      <td>0</td>\n",
       "      <td>7.2500</td>\n",
       "      <td>0</td>\n",
       "      <td>1</td>\n",
       "      <td>0</td>\n",
       "      <td>1</td>\n",
       "      <td>0</td>\n",
       "      <td>1</td>\n",
       "    </tr>\n",
       "    <tr>\n",
       "      <th>1</th>\n",
       "      <td>1</td>\n",
       "      <td>1</td>\n",
       "      <td>38.0</td>\n",
       "      <td>1</td>\n",
       "      <td>0</td>\n",
       "      <td>71.2833</td>\n",
       "      <td>0</td>\n",
       "      <td>0</td>\n",
       "      <td>0</td>\n",
       "      <td>0</td>\n",
       "      <td>0</td>\n",
       "      <td>0</td>\n",
       "    </tr>\n",
       "    <tr>\n",
       "      <th>2</th>\n",
       "      <td>2</td>\n",
       "      <td>3</td>\n",
       "      <td>26.0</td>\n",
       "      <td>0</td>\n",
       "      <td>0</td>\n",
       "      <td>7.9250</td>\n",
       "      <td>1</td>\n",
       "      <td>0</td>\n",
       "      <td>0</td>\n",
       "      <td>1</td>\n",
       "      <td>0</td>\n",
       "      <td>1</td>\n",
       "    </tr>\n",
       "    <tr>\n",
       "      <th>3</th>\n",
       "      <td>3</td>\n",
       "      <td>1</td>\n",
       "      <td>35.0</td>\n",
       "      <td>1</td>\n",
       "      <td>0</td>\n",
       "      <td>53.1000</td>\n",
       "      <td>0</td>\n",
       "      <td>0</td>\n",
       "      <td>0</td>\n",
       "      <td>1</td>\n",
       "      <td>0</td>\n",
       "      <td>0</td>\n",
       "    </tr>\n",
       "    <tr>\n",
       "      <th>4</th>\n",
       "      <td>4</td>\n",
       "      <td>3</td>\n",
       "      <td>35.0</td>\n",
       "      <td>0</td>\n",
       "      <td>0</td>\n",
       "      <td>8.0500</td>\n",
       "      <td>1</td>\n",
       "      <td>1</td>\n",
       "      <td>0</td>\n",
       "      <td>1</td>\n",
       "      <td>0</td>\n",
       "      <td>1</td>\n",
       "    </tr>\n",
       "  </tbody>\n",
       "</table>\n",
       "</div>"
      ],
      "text/plain": [
       "   passenger_id  pclass   age  sibsp  parch     fare  alone  sex_male  \\\n",
       "0             0       3  22.0      1      0   7.2500      0         1   \n",
       "1             1       1  38.0      1      0  71.2833      0         0   \n",
       "2             2       3  26.0      0      0   7.9250      1         0   \n",
       "3             3       1  35.0      1      0  53.1000      0         0   \n",
       "4             4       3  35.0      0      0   8.0500      1         1   \n",
       "\n",
       "   embarked_Q  embarked_S  class_Second  class_Third  \n",
       "0           0           1             0            1  \n",
       "1           0           0             0            0  \n",
       "2           0           1             0            1  \n",
       "3           0           1             0            0  \n",
       "4           0           1             0            1  "
      ]
     },
     "execution_count": 7,
     "metadata": {},
     "output_type": "execute_result"
    }
   ],
   "source": [
    "df2.head()"
   ]
  },
  {
   "cell_type": "code",
   "execution_count": 8,
   "id": "encouraging-evans",
   "metadata": {},
   "outputs": [],
   "source": [
    "df2=df2.drop(columns=['pclass'])"
   ]
  },
  {
   "cell_type": "code",
   "execution_count": 9,
   "id": "skilled-upgrade",
   "metadata": {},
   "outputs": [],
   "source": [
    "X_train, X_test, y_train, y_test = train_test_split(df2, labels, test_size=.17,\n",
    "                                                    random_state=36, stratify=labels)\n",
    "X_train, X_dev, y_train, y_dev = train_test_split(X_train, y_train, test_size=17/83,\n",
    "                                                  random_state=36, stratify=y_train)"
   ]
  },
  {
   "cell_type": "code",
   "execution_count": 10,
   "id": "oriented-concert",
   "metadata": {},
   "outputs": [],
   "source": [
    "over = RandomOverSampler(random_state=36)\n",
    "X_ros, y_ros = over.fit_resample(X_train, y_train)\n",
    "smote = SMOTE(random_state=36)\n",
    "X_smote, y_smote = smote.fit_resample(X_train, y_train)"
   ]
  },
  {
   "cell_type": "code",
   "execution_count": 11,
   "id": "frank-hybrid",
   "metadata": {},
   "outputs": [
    {
     "data": {
      "text/plain": [
       "((586, 11), (586,), (152, 11), (152,), (151, 11), (151,), (724, 11), (724,))"
      ]
     },
     "execution_count": 11,
     "metadata": {},
     "output_type": "execute_result"
    }
   ],
   "source": [
    "X_train.shape, y_train.shape, X_test.shape, y_test.shape, X_dev.shape, y_dev.shape, X_ros.shape, y_ros.shape"
   ]
  },
  {
   "cell_type": "markdown",
   "id": "difficult-tomato",
   "metadata": {},
   "source": [
    "#### Baseline Model and accuracy"
   ]
  },
  {
   "cell_type": "code",
   "execution_count": 243,
   "id": "precise-secretariat",
   "metadata": {},
   "outputs": [
    {
     "data": {
      "text/plain": [
       "0    549\n",
       "1    340\n",
       "Name: survived, dtype: int64"
      ]
     },
     "execution_count": 243,
     "metadata": {},
     "output_type": "execute_result"
    }
   ],
   "source": [
    "df.survived.value_counts()"
   ]
  },
  {
   "cell_type": "code",
   "execution_count": 244,
   "id": "bibliographic-association",
   "metadata": {},
   "outputs": [
    {
     "data": {
      "text/plain": [
       "0.62"
      ]
     },
     "execution_count": 244,
     "metadata": {},
     "output_type": "execute_result"
    }
   ],
   "source": [
    "base = np.zeros(len(X_train)) #baseline: Jacked\n",
    "round(sum(base==y_train)/len(X_train),2) #accuracy"
   ]
  },
  {
   "cell_type": "markdown",
   "id": "focused-tender",
   "metadata": {},
   "source": [
    "<a id='tree'></a>\n",
    "### Tree"
   ]
  },
  {
   "cell_type": "code",
   "execution_count": 15,
   "id": "metallic-appeal",
   "metadata": {},
   "outputs": [
    {
     "name": "stdout",
     "output_type": "stream",
     "text": [
      "0.8410596026490066\n"
     ]
    },
    {
     "data": {
      "image/png": "[encoded data removed]",
      "text/plain": [
       "<Figure size 432x288 with 2 Axes>"
      ]
     },
     "metadata": {
      "needs_background": "light"
     },
     "output_type": "display_data"
    }
   ],
   "source": [
    "#cost complexity pruning removes nodes based on impurity; node complexities above alpha get pruned\n",
    "dt = DecisionTreeClassifier(max_leaf_nodes=7, ccp_alpha=.007, random_state=36)\n",
    "dt.fit(X_train, y_train)\n",
    "print(dt.score(X_dev, y_dev)) #accuracy\n",
    "plot_confusion_matrix(dt, X_dev, y_dev, cmap='cool');      "
   ]
  },
  {
   "cell_type": "code",
   "execution_count": 16,
   "id": "baking-pastor",
   "metadata": {},
   "outputs": [
    {
     "name": "stdout",
     "output_type": "stream",
     "text": [
      "0.8079470198675497\n"
     ]
    },
    {
     "data": {
      "image/png": "[encoded data removed]",
      "text/plain": [
       "<Figure size 432x288 with 2 Axes>"
      ]
     },
     "metadata": {
      "needs_background": "light"
     },
     "output_type": "display_data"
    }
   ],
   "source": [
    "#does 0versampling help?\n",
    "dt_sample = DecisionTreeClassifier(ccp_alpha=.007, random_state=36)\n",
    "dt_sample.fit(X_ros, y_ros)\n",
    "print(dt_sample.score(X_dev, y_dev)) #accuracy\n",
    "plot_confusion_matrix(dt_sample, X_dev, y_dev, cmap='cool'); #maybe not"
   ]
  },
  {
   "cell_type": "code",
   "execution_count": 18,
   "id": "recognized-barcelona",
   "metadata": {},
   "outputs": [
    {
     "data": {
      "image/png": "[encoded data removed]",
      "text/plain": [
       "<Figure size 864x432 with 1 Axes>"
      ]
     },
     "metadata": {
      "needs_background": "light"
     },
     "output_type": "display_data"
    }
   ],
   "source": [
    "f = plt.subplots(figsize=(12,6))\n",
    "#good tree\n",
    "plot_tree(dt, feature_names=df2.columns, class_names=['die','live']);"
   ]
  },
  {
   "cell_type": "code",
   "execution_count": 19,
   "id": "younger-treasurer",
   "metadata": {},
   "outputs": [
    {
     "name": "stdout",
     "output_type": "stream",
     "text": [
      "              precision    recall  f1-score   support\n",
      "\n",
      "           0       0.84      0.91      0.88        93\n",
      "           1       0.84      0.72      0.78        58\n",
      "\n",
      "    accuracy                           0.84       151\n",
      "   macro avg       0.84      0.82      0.83       151\n",
      "weighted avg       0.84      0.84      0.84       151\n",
      "\n"
     ]
    }
   ],
   "source": [
    "pred = dt.predict(X_dev)\n",
    "#calculates precision, recall, F1, support\n",
    "print(classification_report(y_dev, pred))"
   ]
  },
  {
   "cell_type": "code",
   "execution_count": 20,
   "id": "celtic-hours",
   "metadata": {},
   "outputs": [
    {
     "data": {
      "image/png": "[encoded data removed]",
      "text/plain": [
       "<Figure size 432x288 with 2 Axes>"
      ]
     },
     "metadata": {
      "needs_background": "light"
     },
     "output_type": "display_data"
    }
   ],
   "source": [
    "dt_overfit = DecisionTreeClassifier(random_state=36)\n",
    "dt_overfit.fit(X_train, y_train)\n",
    "#this overgrown tree badly overfit the training data\n",
    "plot_confusion_matrix(dt_overfit, X_train, y_train, cmap='cool');"
   ]
  },
  {
   "cell_type": "code",
   "execution_count": 260,
   "id": "liberal-newcastle",
   "metadata": {},
   "outputs": [
    {
     "name": "stdout",
     "output_type": "stream",
     "text": [
      "0.7615894039735099\n"
     ]
    },
    {
     "data": {
      "image/png": "[encoded data removed]",
      "text/plain": [
       "<Figure size 432x288 with 2 Axes>"
      ]
     },
     "metadata": {
      "needs_background": "light"
     },
     "output_type": "display_data"
    }
   ],
   "source": [
    "#not so hot on non-training data\n",
    "print(dt_overfit.score(X_dev, y_dev)) #accuracy\n",
    "plot_confusion_matrix(dt_overfit, X_dev, y_dev, cmap='cool');"
   ]
  },
  {
   "cell_type": "code",
   "execution_count": 86,
   "id": "figured-stable",
   "metadata": {},
   "outputs": [
    {
     "data": {
      "image/png": "[encoded data removed]",
      "text/plain": [
       "<Figure size 864x288 with 1 Axes>"
      ]
     },
     "metadata": {
      "needs_background": "light"
     },
     "output_type": "display_data"
    }
   ],
   "source": [
    "f = plt.subplots(figsize=(12,4))\n",
    "#this is more convoluted than a stalker's pinboard; deosn't generalize to new, unseen data\n",
    "plot_tree(dt_overfit);"
   ]
  },
  {
   "cell_type": "markdown",
   "id": "indian-bubble",
   "metadata": {},
   "source": [
    "<a id='forest'></a>\n",
    "### Forest"
   ]
  },
  {
   "cell_type": "code",
   "execution_count": 21,
   "id": "automotive-hazard",
   "metadata": {},
   "outputs": [],
   "source": [
    "from sklearn.ensemble import RandomForestClassifier\n",
    "from sklearn.model_selection import RandomizedSearchCV\n",
    "import eli5"
   ]
  },
  {
   "cell_type": "code",
   "execution_count": 22,
   "id": "numeric-retention",
   "metadata": {},
   "outputs": [
    {
     "data": {
      "text/plain": [
       "0.8344370860927153"
      ]
     },
     "execution_count": 22,
     "metadata": {},
     "output_type": "execute_result"
    }
   ],
   "source": [
    "rf = RandomForestClassifier(min_samples_leaf=1, max_depth=10,random_state=36)\n",
    "rf.fit(X_train, y_train)\n",
    "rf.score(X_dev, y_dev)"
   ]
  },
  {
   "cell_type": "code",
   "execution_count": 82,
   "id": "precious-freeware",
   "metadata": {},
   "outputs": [
    {
     "name": "stdout",
     "output_type": "stream",
     "text": [
      "              precision    recall  f1-score   support\n",
      "\n",
      "           0       0.85      0.89      0.87        93\n",
      "           1       0.81      0.74      0.77        58\n",
      "\n",
      "    accuracy                           0.83       151\n",
      "   macro avg       0.83      0.82      0.82       151\n",
      "weighted avg       0.83      0.83      0.83       151\n",
      "\n"
     ]
    }
   ],
   "source": [
    "pred = rf.predict(X_dev)\n",
    "print(classification_report(y_dev, pred))"
   ]
  },
  {
   "cell_type": "code",
   "execution_count": 14,
   "id": "legendary-commonwealth",
   "metadata": {},
   "outputs": [
    {
     "data": {
      "image/png": "[encoded data removed]",
      "text/plain": [
       "<Figure size 432x288 with 1 Axes>"
      ]
     },
     "metadata": {
      "needs_background": "light"
     },
     "output_type": "display_data"
    }
   ],
   "source": [
    "#tpr(sensitivity) and tnr(specificity)\n",
    "plot_roc_curve(rf, X_dev, y_dev); #AUC = .88"
   ]
  },
  {
   "cell_type": "code",
   "execution_count": 15,
   "id": "concerned-search",
   "metadata": {},
   "outputs": [
    {
     "data": {
      "image/png": "[encoded data removed]",
      "text/plain": [
       "<Figure size 432x288 with 2 Axes>"
      ]
     },
     "metadata": {
      "needs_background": "light"
     },
     "output_type": "display_data"
    }
   ],
   "source": [
    "plot_confusion_matrix(rf, X_dev, y_dev, cmap='bone_r');"
   ]
  },
  {
   "cell_type": "code",
   "execution_count": 16,
   "id": "cross-carrier",
   "metadata": {},
   "outputs": [
    {
     "name": "stdout",
     "output_type": "stream",
     "text": [
      "0.9607508532423208\n"
     ]
    },
    {
     "data": {
      "image/png": "[encoded data removed]",
      "text/plain": [
       "<Figure size 432x288 with 2 Axes>"
      ]
     },
     "metadata": {
      "needs_background": "light"
     },
     "output_type": "display_data"
    }
   ],
   "source": [
    "#the default forest also overfits but maybe not as severely as the lone tree\n",
    "print(rf.score(X_train, y_train))\n",
    "plot_confusion_matrix(rf, X_train, y_train, cmap='bone_r');"
   ]
  },
  {
   "cell_type": "code",
   "execution_count": 29,
   "id": "opened-chapel",
   "metadata": {
    "collapsed": true,
    "jupyter": {
     "outputs_hidden": true
    },
    "tags": []
   },
   "outputs": [
    {
     "name": "stdout",
     "output_type": "stream",
     "text": [
      "Fitting 3 folds for each of 50 candidates, totalling 150 fits\n"
     ]
    },
    {
     "name": "stderr",
     "output_type": "stream",
     "text": [
      "/Users/stevennewton/opt/anaconda3/lib/python3.8/site-packages/sklearn/model_selection/_search.py:918: UserWarning: One or more of the test scores are non-finite: [       nan        nan 0.77808303 0.78833072 0.76784406 0.78492063\n",
      " 0.77125414        nan 0.77124542        nan 0.79689517        nan\n",
      " 0.77806559 0.79346764 0.76782662 0.77470783 0.77469039        nan\n",
      " 0.79858713        nan 0.78834816 0.78662132 0.77813536        nan\n",
      "        nan        nan 0.788322          nan 0.7951596  0.77466422\n",
      "        nan        nan 0.77981859        nan        nan 0.79006628\n",
      " 0.77125414 0.77466422 0.77983604        nan 0.79346764 0.79518577\n",
      " 0.77472527 0.76271586 0.77124542        nan 0.788322          nan\n",
      "        nan 0.77296354]\n",
      "  warnings.warn(\n"
     ]
    },
    {
     "data": {
      "text/plain": [
       "RandomizedSearchCV(cv=3, estimator=RandomForestClassifier(), n_iter=50,\n",
       "                   n_jobs=-1,\n",
       "                   param_distributions={'max_depth': [2, 4, 8, 16, 32],\n",
       "                                        'min_samples_leaf': [1, 2, 4, 8, 16],\n",
       "                                        'min_samples_split': [1, 2, 4],\n",
       "                                        'n_estimators': [50, 100, 200, 400,\n",
       "                                                         800]},\n",
       "                   random_state=36, verbose=2)"
      ]
     },
     "execution_count": 29,
     "metadata": {},
     "output_type": "execute_result"
    }
   ],
   "source": [
    "#random grid search for better hyperparameters\n",
    "param_dict = {\"min_samples_leaf\":[1,2,4,8,16],\n",
    "              \"max_depth\":[2,4,8,16,32],\n",
    "              \"n_estimators\": [50,100,200,400,800],\n",
    "              \"min_samples_split\": [1,2,4]}\n",
    "rf_rand = RandomizedSearchCV(estimator=RandomForestClassifier(),\n",
    "                               param_distributions=param_dict,\n",
    "                               n_iter=50, cv = 3, verbose=2, random_state=36, n_jobs=-1)\n",
    "rf_rand.fit(X_train, y_train)"
   ]
  },
  {
   "cell_type": "code",
   "execution_count": 32,
   "id": "close-israeli",
   "metadata": {},
   "outputs": [
    {
     "data": {
      "text/plain": [
       "{'n_estimators': 100,\n",
       " 'min_samples_split': 4,\n",
       " 'min_samples_leaf': 4,\n",
       " 'max_depth': 4}"
      ]
     },
     "execution_count": 32,
     "metadata": {},
     "output_type": "execute_result"
    }
   ],
   "source": [
    "params = rf_rand.best_params_\n",
    "params"
   ]
  },
  {
   "cell_type": "code",
   "execution_count": 33,
   "id": "technological-privacy",
   "metadata": {},
   "outputs": [
    {
     "data": {
      "text/plain": [
       "0.8543046357615894"
      ]
     },
     "execution_count": 33,
     "metadata": {},
     "output_type": "execute_result"
    }
   ],
   "source": [
    "rf2 = RandomForestClassifier(**params, random_state=36) #unpack dictionary\n",
    "rf2.fit(X_train, y_train)\n",
    "rf2.score(X_dev, y_dev) #better"
   ]
  },
  {
   "cell_type": "code",
   "execution_count": 34,
   "id": "banned-lemon",
   "metadata": {},
   "outputs": [
    {
     "data": {
      "image/png": "[encoded data removed]",
      "text/plain": [
       "<Figure size 432x288 with 2 Axes>"
      ]
     },
     "metadata": {
      "needs_background": "light"
     },
     "output_type": "display_data"
    }
   ],
   "source": [
    "#best model yet after I dropped extra pclass. struggles more with survivors prol because it is the minority class\n",
    "#we might try balancing the classes\n",
    "plot_confusion_matrix(rf2, X_dev, y_dev, cmap='bone_r');"
   ]
  },
  {
   "cell_type": "code",
   "execution_count": 37,
   "id": "photographic-tumor",
   "metadata": {},
   "outputs": [
    {
     "name": "stdout",
     "output_type": "stream",
     "text": [
      "0.8344370860927153\n"
     ]
    },
    {
     "data": {
      "image/png": "[encoded data removed]",
      "text/plain": [
       "<Figure size 432x288 with 2 Axes>"
      ]
     },
     "metadata": {
      "needs_background": "light"
     },
     "output_type": "display_data"
    }
   ],
   "source": [
    "#using synthetic data\n",
    "rf_smote = RandomForestClassifier(**params, random_state=36)\n",
    "rf_smote.fit(X_smote, y_smote)\n",
    "print(rf_smote.score(X_dev, y_dev)) #accuracy\n",
    "plot_confusion_matrix(rf_smote, X_dev, y_dev, cmap='bone_r'); #not better"
   ]
  },
  {
   "cell_type": "code",
   "execution_count": 38,
   "id": "supreme-multiple",
   "metadata": {},
   "outputs": [
    {
     "data": {
      "text/html": [
       "\n",
       "    <style>\n",
       "    table.eli5-weights tr:hover {\n",
       "        filter: brightness(85%);\n",
       "    }\n",
       "</style>\n",
       "\n",
       "\n",
       "\n",
       "    \n",
       "\n",
       "    \n",
       "\n",
       "    \n",
       "\n",
       "    \n",
       "\n",
       "    \n",
       "\n",
       "    \n",
       "\n",
       "\n",
       "    \n",
       "\n",
       "    \n",
       "\n",
       "    \n",
       "\n",
       "    \n",
       "\n",
       "    \n",
       "\n",
       "    \n",
       "\n",
       "\n",
       "    \n",
       "\n",
       "    \n",
       "\n",
       "    \n",
       "\n",
       "    \n",
       "\n",
       "    \n",
       "        <table class=\"eli5-weights eli5-feature-importances\" style=\"border-collapse: collapse; border: none; margin-top: 0em; table-layout: auto;\">\n",
       "    <thead>\n",
       "    <tr style=\"border: none;\">\n",
       "        <th style=\"padding: 0 1em 0 0.5em; text-align: right; border: none;\">Weight</th>\n",
       "        <th style=\"padding: 0 0.5em 0 0.5em; text-align: left; border: none;\">Feature</th>\n",
       "    </tr>\n",
       "    </thead>\n",
       "    <tbody>\n",
       "    \n",
       "        <tr style=\"background-color: hsl(120, 100.00%, 80.00%); border: none;\">\n",
       "            <td style=\"padding: 0 1em 0 0.5em; text-align: right; border: none;\">\n",
       "                0.4707\n",
       "                \n",
       "                    &plusmn; 0.4128\n",
       "                \n",
       "            </td>\n",
       "            <td style=\"padding: 0 0.5em 0 0.5em; text-align: left; border: none;\">\n",
       "                sex_male\n",
       "            </td>\n",
       "        </tr>\n",
       "    \n",
       "        <tr style=\"background-color: hsl(120, 100.00%, 89.97%); border: none;\">\n",
       "            <td style=\"padding: 0 1em 0 0.5em; text-align: right; border: none;\">\n",
       "                0.1756\n",
       "                \n",
       "                    &plusmn; 0.3070\n",
       "                \n",
       "            </td>\n",
       "            <td style=\"padding: 0 0.5em 0 0.5em; text-align: left; border: none;\">\n",
       "                fare\n",
       "            </td>\n",
       "        </tr>\n",
       "    \n",
       "        <tr style=\"background-color: hsl(120, 100.00%, 92.62%); border: none;\">\n",
       "            <td style=\"padding: 0 1em 0 0.5em; text-align: right; border: none;\">\n",
       "                0.1134\n",
       "                \n",
       "                    &plusmn; 0.2403\n",
       "                \n",
       "            </td>\n",
       "            <td style=\"padding: 0 0.5em 0 0.5em; text-align: left; border: none;\">\n",
       "                class_Third\n",
       "            </td>\n",
       "        </tr>\n",
       "    \n",
       "        <tr style=\"background-color: hsl(120, 100.00%, 95.05%); border: none;\">\n",
       "            <td style=\"padding: 0 1em 0 0.5em; text-align: right; border: none;\">\n",
       "                0.0641\n",
       "                \n",
       "                    &plusmn; 0.1152\n",
       "                \n",
       "            </td>\n",
       "            <td style=\"padding: 0 0.5em 0 0.5em; text-align: left; border: none;\">\n",
       "                age\n",
       "            </td>\n",
       "        </tr>\n",
       "    \n",
       "        <tr style=\"background-color: hsl(120, 100.00%, 95.83%); border: none;\">\n",
       "            <td style=\"padding: 0 1em 0 0.5em; text-align: right; border: none;\">\n",
       "                0.0502\n",
       "                \n",
       "                    &plusmn; 0.0951\n",
       "                \n",
       "            </td>\n",
       "            <td style=\"padding: 0 0.5em 0 0.5em; text-align: left; border: none;\">\n",
       "                passenger_id\n",
       "            </td>\n",
       "        </tr>\n",
       "    \n",
       "        <tr style=\"background-color: hsl(120, 100.00%, 96.55%); border: none;\">\n",
       "            <td style=\"padding: 0 1em 0 0.5em; text-align: right; border: none;\">\n",
       "                0.0383\n",
       "                \n",
       "                    &plusmn; 0.0943\n",
       "                \n",
       "            </td>\n",
       "            <td style=\"padding: 0 0.5em 0 0.5em; text-align: left; border: none;\">\n",
       "                sibsp\n",
       "            </td>\n",
       "        </tr>\n",
       "    \n",
       "        <tr style=\"background-color: hsl(120, 100.00%, 97.07%); border: none;\">\n",
       "            <td style=\"padding: 0 1em 0 0.5em; text-align: right; border: none;\">\n",
       "                0.0303\n",
       "                \n",
       "                    &plusmn; 0.1113\n",
       "                \n",
       "            </td>\n",
       "            <td style=\"padding: 0 0.5em 0 0.5em; text-align: left; border: none;\">\n",
       "                alone\n",
       "            </td>\n",
       "        </tr>\n",
       "    \n",
       "        <tr style=\"background-color: hsl(120, 100.00%, 97.67%); border: none;\">\n",
       "            <td style=\"padding: 0 1em 0 0.5em; text-align: right; border: none;\">\n",
       "                0.0219\n",
       "                \n",
       "                    &plusmn; 0.0711\n",
       "                \n",
       "            </td>\n",
       "            <td style=\"padding: 0 0.5em 0 0.5em; text-align: left; border: none;\">\n",
       "                parch\n",
       "            </td>\n",
       "        </tr>\n",
       "    \n",
       "        <tr style=\"background-color: hsl(120, 100.00%, 98.11%); border: none;\">\n",
       "            <td style=\"padding: 0 1em 0 0.5em; text-align: right; border: none;\">\n",
       "                0.0162\n",
       "                \n",
       "                    &plusmn; 0.0600\n",
       "                \n",
       "            </td>\n",
       "            <td style=\"padding: 0 0.5em 0 0.5em; text-align: left; border: none;\">\n",
       "                embarked_S\n",
       "            </td>\n",
       "        </tr>\n",
       "    \n",
       "        <tr style=\"background-color: hsl(120, 100.00%, 98.15%); border: none;\">\n",
       "            <td style=\"padding: 0 1em 0 0.5em; text-align: right; border: none;\">\n",
       "                0.0157\n",
       "                \n",
       "                    &plusmn; 0.0542\n",
       "                \n",
       "            </td>\n",
       "            <td style=\"padding: 0 0.5em 0 0.5em; text-align: left; border: none;\">\n",
       "                class_Second\n",
       "            </td>\n",
       "        </tr>\n",
       "    \n",
       "        <tr style=\"background-color: hsl(120, 100.00%, 99.34%); border: none;\">\n",
       "            <td style=\"padding: 0 1em 0 0.5em; text-align: right; border: none;\">\n",
       "                0.0036\n",
       "                \n",
       "                    &plusmn; 0.0208\n",
       "                \n",
       "            </td>\n",
       "            <td style=\"padding: 0 0.5em 0 0.5em; text-align: left; border: none;\">\n",
       "                embarked_Q\n",
       "            </td>\n",
       "        </tr>\n",
       "    \n",
       "    \n",
       "    </tbody>\n",
       "</table>\n",
       "    \n",
       "\n",
       "    \n",
       "\n",
       "\n",
       "    \n",
       "\n",
       "    \n",
       "\n",
       "    \n",
       "\n",
       "    \n",
       "\n",
       "    \n",
       "\n",
       "    \n",
       "\n",
       "\n",
       "\n"
      ],
      "text/plain": [
       "<IPython.core.display.HTML object>"
      ]
     },
     "execution_count": 38,
     "metadata": {},
     "output_type": "execute_result"
    }
   ],
   "source": [
    "#feature importance ranking\n",
    "eli5.show_weights(rf2, feature_names=list(X_train.columns))"
   ]
  },
  {
   "cell_type": "code",
   "execution_count": 39,
   "id": "swedish-morning",
   "metadata": {},
   "outputs": [
    {
     "name": "stdout",
     "output_type": "stream",
     "text": [
      "              precision    recall  f1-score   support\n",
      "\n",
      "           0       0.84      0.94      0.89        93\n",
      "           1       0.88      0.72      0.79        58\n",
      "\n",
      "    accuracy                           0.85       151\n",
      "   macro avg       0.86      0.83      0.84       151\n",
      "weighted avg       0.86      0.85      0.85       151\n",
      "\n"
     ]
    }
   ],
   "source": [
    "pred = rf2.predict(X_dev)\n",
    "print(classification_report(y_dev, pred))"
   ]
  },
  {
   "cell_type": "code",
   "execution_count": 40,
   "id": "above-intellectual",
   "metadata": {},
   "outputs": [
    {
     "data": {
      "image/png": "[encoded data removed]",
      "text/plain": [
       "<Figure size 432x288 with 1 Axes>"
      ]
     },
     "metadata": {
      "needs_background": "light"
     },
     "output_type": "display_data"
    }
   ],
   "source": [
    "#tpr(sensitivity) and tnr(specificity)\n",
    "plot_roc_curve(rf2, X_dev, y_dev); #AUC = .88"
   ]
  },
  {
   "cell_type": "markdown",
   "id": "forty-tower",
   "metadata": {},
   "source": [
    "<a id='knn'></a>\n",
    "### Nearest Neighbors"
   ]
  },
  {
   "cell_type": "code",
   "execution_count": 12,
   "id": "excited-success",
   "metadata": {},
   "outputs": [],
   "source": [
    "from sklearn.neighbors import KNeighborsClassifier"
   ]
  },
  {
   "cell_type": "code",
   "execution_count": 13,
   "id": "accepted-minneapolis",
   "metadata": {},
   "outputs": [],
   "source": [
    "#not the most promising\n",
    "scores_out, scores_in = [], []\n",
    "k_values = range(1,50)\n",
    "for k in k_values:\n",
    "    knn = KNeighborsClassifier(n_neighbors=k)\n",
    "    knn.fit(X_train, y_train)\n",
    "    scores_out.append(round(knn.score(X_dev, y_dev),3))\n",
    "    scores_in.append(round(knn.score(X_train, y_train),3))    "
   ]
  },
  {
   "cell_type": "markdown",
   "id": "renewable-apparatus",
   "metadata": {},
   "source": [
    "With few neighbors (less than 5), the model overfits the training; training set accuracy is significantly higher than dev set accuracy. Increasing k appears to improve the model on dev set data until about 35 neighbors. After this point, accuracy on both sets drops slowly indicating increasing bias. This is the case because the model is pulling in too many values to make the comparison"
   ]
  },
  {
   "cell_type": "code",
   "execution_count": 16,
   "id": "interstate-escape",
   "metadata": {},
   "outputs": [
    {
     "data": {
      "image/png": "[encoded data removed]",
      "text/plain": [
       "<Figure size 1152x288 with 1 Axes>"
      ]
     },
     "metadata": {
      "needs_background": "light"
     },
     "output_type": "display_data"
    }
   ],
   "source": [
    "f = plt.subplots(figsize=(16,4))\n",
    "plt.plot(k_values, scores_in)\n",
    "plt.plot(k_values, scores_out)\n",
    "plt.grid()\n",
    "plt.xlim(1,49)\n",
    "plt.legend([\"train\",\"dev\"])\n",
    "plt.title(\"kNN accuracy on train & dev sets for different values k\");"
   ]
  },
  {
   "cell_type": "code",
   "execution_count": 18,
   "id": "monthly-diesel",
   "metadata": {},
   "outputs": [
    {
     "data": {
      "image/png": "[encoded data removed]",
      "text/plain": [
       "<Figure size 432x288 with 2 Axes>"
      ]
     },
     "metadata": {
      "needs_background": "light"
     },
     "output_type": "display_data"
    }
   ],
   "source": [
    "#almost all errors on survived class, low recall\n",
    "knn = KNeighborsClassifier(n_neighbors=k_values[np.argmax(scores_out)])\n",
    "knn.fit(X_train, y_train)\n",
    "plot_confusion_matrix(knn, X_dev, y_dev, cmap='copper_r');"
   ]
  },
  {
   "cell_type": "code",
   "execution_count": 83,
   "id": "sunset-pressure",
   "metadata": {},
   "outputs": [
    {
     "name": "stdout",
     "output_type": "stream",
     "text": [
      "              precision    recall  f1-score   support\n",
      "\n",
      "           0       0.68      0.99      0.81        93\n",
      "           1       0.94      0.26      0.41        58\n",
      "\n",
      "    accuracy                           0.71       151\n",
      "   macro avg       0.81      0.62      0.61       151\n",
      "weighted avg       0.78      0.71      0.65       151\n",
      "\n"
     ]
    }
   ],
   "source": [
    "pred = knn.predict(X_dev)\n",
    "print(classification_report(y_dev, pred))"
   ]
  },
  {
   "cell_type": "markdown",
   "id": "stylish-pharmacology",
   "metadata": {},
   "source": [
    "<a id='log'></a>\n",
    "### Logistic regression"
   ]
  },
  {
   "cell_type": "code",
   "execution_count": 44,
   "id": "authorized-retro",
   "metadata": {},
   "outputs": [],
   "source": [
    "from sklearn.linear_model import LogisticRegressionCV\n",
    "from sklearn.linear_model import LogisticRegression\n",
    "from sklearn.preprocessing import StandardScaler\n",
    "from sklearn.pipeline import make_pipeline"
   ]
  },
  {
   "cell_type": "code",
   "execution_count": 91,
   "id": "decimal-cemetery",
   "metadata": {},
   "outputs": [
    {
     "data": {
      "text/plain": [
       "0.8145695364238411"
      ]
     },
     "execution_count": 91,
     "metadata": {},
     "output_type": "execute_result"
    }
   ],
   "source": [
    "#the CV version does some automatic tuning\n",
    "lr = make_pipeline(StandardScaler(), LogisticRegressionCV(random_state=36))\n",
    "lr.fit(X_train, y_train)\n",
    "lr.score(X_dev, y_dev)"
   ]
  },
  {
   "cell_type": "code",
   "execution_count": 92,
   "id": "congressional-stamp",
   "metadata": {},
   "outputs": [
    {
     "name": "stdout",
     "output_type": "stream",
     "text": [
      "              precision    recall  f1-score   support\n",
      "\n",
      "           0       0.84      0.86      0.85        93\n",
      "           1       0.77      0.74      0.75        58\n",
      "\n",
      "    accuracy                           0.81       151\n",
      "   macro avg       0.80      0.80      0.80       151\n",
      "weighted avg       0.81      0.81      0.81       151\n",
      "\n"
     ]
    }
   ],
   "source": [
    "pred = lr.predict(X_dev)\n",
    "print(classification_report(y_dev, pred))"
   ]
  },
  {
   "cell_type": "code",
   "execution_count": 101,
   "id": "vanilla-renewal",
   "metadata": {},
   "outputs": [
    {
     "data": {
      "text/html": [
       "\n",
       "    <style>\n",
       "    table.eli5-weights tr:hover {\n",
       "        filter: brightness(85%);\n",
       "    }\n",
       "</style>\n",
       "\n",
       "\n",
       "\n",
       "    \n",
       "\n",
       "    \n",
       "\n",
       "    \n",
       "\n",
       "    \n",
       "\n",
       "    \n",
       "\n",
       "    \n",
       "\n",
       "\n",
       "    \n",
       "\n",
       "    \n",
       "\n",
       "    \n",
       "\n",
       "    \n",
       "        \n",
       "\n",
       "    \n",
       "\n",
       "        \n",
       "            \n",
       "                \n",
       "                \n",
       "    \n",
       "        <p style=\"margin-bottom: 0.5em; margin-top: 0em\">\n",
       "            <b>\n",
       "    \n",
       "        y=1\n",
       "    \n",
       "</b>\n",
       "\n",
       "top features\n",
       "        </p>\n",
       "    \n",
       "    <table class=\"eli5-weights\"\n",
       "           style=\"border-collapse: collapse; border: none; margin-top: 0em; table-layout: auto; margin-bottom: 2em;\">\n",
       "        <thead>\n",
       "        <tr style=\"border: none;\">\n",
       "            \n",
       "                <th style=\"padding: 0 1em 0 0.5em; text-align: right; border: none;\" title=\"Feature weights. Note that weights do not account for feature value scales, so if feature values have different scales, features with highest weights might not be the most important.\">\n",
       "                    Weight<sup>?</sup>\n",
       "                </th>\n",
       "            \n",
       "            <th style=\"padding: 0 0.5em 0 0.5em; text-align: left; border: none;\">Feature</th>\n",
       "            \n",
       "        </tr>\n",
       "        </thead>\n",
       "        <tbody>\n",
       "        \n",
       "            <tr style=\"background-color: hsl(120, 100.00%, 97.43%); border: none;\">\n",
       "    <td style=\"padding: 0 1em 0 0.5em; text-align: right; border: none;\">\n",
       "        +0.061\n",
       "    </td>\n",
       "    <td style=\"padding: 0 0.5em 0 0.5em; text-align: left; border: none;\">\n",
       "        fare\n",
       "    </td>\n",
       "    \n",
       "</tr>\n",
       "        \n",
       "            <tr style=\"background-color: hsl(120, 100.00%, 98.50%); border: none;\">\n",
       "    <td style=\"padding: 0 1em 0 0.5em; text-align: right; border: none;\">\n",
       "        +0.028\n",
       "    </td>\n",
       "    <td style=\"padding: 0 0.5em 0 0.5em; text-align: left; border: none;\">\n",
       "        passenger_id\n",
       "    </td>\n",
       "    \n",
       "</tr>\n",
       "        \n",
       "        \n",
       "\n",
       "        \n",
       "        \n",
       "            <tr style=\"background-color: hsl(0, 100.00%, 98.48%); border: none;\">\n",
       "    <td style=\"padding: 0 1em 0 0.5em; text-align: right; border: none;\">\n",
       "        -0.029\n",
       "    </td>\n",
       "    <td style=\"padding: 0 0.5em 0 0.5em; text-align: left; border: none;\">\n",
       "        embarked_Q\n",
       "    </td>\n",
       "    \n",
       "</tr>\n",
       "        \n",
       "            <tr style=\"background-color: hsl(0, 100.00%, 95.11%); border: none;\">\n",
       "    <td style=\"padding: 0 1em 0 0.5em; text-align: right; border: none;\">\n",
       "        -0.154\n",
       "    </td>\n",
       "    <td style=\"padding: 0 0.5em 0 0.5em; text-align: left; border: none;\">\n",
       "        embarked_S\n",
       "    </td>\n",
       "    \n",
       "</tr>\n",
       "        \n",
       "            <tr style=\"background-color: hsl(0, 100.00%, 93.46%); border: none;\">\n",
       "    <td style=\"padding: 0 1em 0 0.5em; text-align: right; border: none;\">\n",
       "        -0.234\n",
       "    </td>\n",
       "    <td style=\"padding: 0 0.5em 0 0.5em; text-align: left; border: none;\">\n",
       "        parch\n",
       "    </td>\n",
       "    \n",
       "</tr>\n",
       "        \n",
       "            <tr style=\"background-color: hsl(0, 100.00%, 90.98%); border: none;\">\n",
       "    <td style=\"padding: 0 1em 0 0.5em; text-align: right; border: none;\">\n",
       "        -0.370\n",
       "    </td>\n",
       "    <td style=\"padding: 0 0.5em 0 0.5em; text-align: left; border: none;\">\n",
       "        alone\n",
       "    </td>\n",
       "    \n",
       "</tr>\n",
       "        \n",
       "            <tr style=\"background-color: hsl(0, 100.00%, 90.82%); border: none;\">\n",
       "    <td style=\"padding: 0 1em 0 0.5em; text-align: right; border: none;\">\n",
       "        -0.380\n",
       "    </td>\n",
       "    <td style=\"padding: 0 0.5em 0 0.5em; text-align: left; border: none;\">\n",
       "        class_Second\n",
       "    </td>\n",
       "    \n",
       "</tr>\n",
       "        \n",
       "            <tr style=\"background-color: hsl(0, 100.00%, 89.59%); border: none;\">\n",
       "    <td style=\"padding: 0 1em 0 0.5em; text-align: right; border: none;\">\n",
       "        -0.455\n",
       "    </td>\n",
       "    <td style=\"padding: 0 0.5em 0 0.5em; text-align: left; border: none;\">\n",
       "        age\n",
       "    </td>\n",
       "    \n",
       "</tr>\n",
       "        \n",
       "            <tr style=\"background-color: hsl(0, 100.00%, 88.26%); border: none;\">\n",
       "    <td style=\"padding: 0 1em 0 0.5em; text-align: right; border: none;\">\n",
       "        -0.540\n",
       "    </td>\n",
       "    <td style=\"padding: 0 0.5em 0 0.5em; text-align: left; border: none;\">\n",
       "        sibsp\n",
       "    </td>\n",
       "    \n",
       "</tr>\n",
       "        \n",
       "            <tr style=\"background-color: hsl(0, 100.00%, 86.73%); border: none;\">\n",
       "    <td style=\"padding: 0 1em 0 0.5em; text-align: right; border: none;\">\n",
       "        -0.643\n",
       "    </td>\n",
       "    <td style=\"padding: 0 0.5em 0 0.5em; text-align: left; border: none;\">\n",
       "        &lt;BIAS&gt;\n",
       "    </td>\n",
       "    \n",
       "</tr>\n",
       "        \n",
       "            <tr style=\"background-color: hsl(0, 100.00%, 83.30%); border: none;\">\n",
       "    <td style=\"padding: 0 1em 0 0.5em; text-align: right; border: none;\">\n",
       "        -0.893\n",
       "    </td>\n",
       "    <td style=\"padding: 0 0.5em 0 0.5em; text-align: left; border: none;\">\n",
       "        class_Third\n",
       "    </td>\n",
       "    \n",
       "</tr>\n",
       "        \n",
       "            <tr style=\"background-color: hsl(0, 100.00%, 80.00%); border: none;\">\n",
       "    <td style=\"padding: 0 1em 0 0.5em; text-align: right; border: none;\">\n",
       "        -1.155\n",
       "    </td>\n",
       "    <td style=\"padding: 0 0.5em 0 0.5em; text-align: left; border: none;\">\n",
       "        sex_male\n",
       "    </td>\n",
       "    \n",
       "</tr>\n",
       "        \n",
       "\n",
       "        </tbody>\n",
       "    </table>\n",
       "\n",
       "            \n",
       "        \n",
       "\n",
       "        \n",
       "\n",
       "\n",
       "\n",
       "    \n",
       "\n",
       "    \n",
       "\n",
       "    \n",
       "\n",
       "    \n",
       "\n",
       "\n",
       "    \n",
       "\n",
       "    \n",
       "\n",
       "    \n",
       "\n",
       "    \n",
       "\n",
       "    \n",
       "\n",
       "    \n",
       "\n",
       "\n",
       "    \n",
       "\n",
       "    \n",
       "\n",
       "    \n",
       "\n",
       "    \n",
       "\n",
       "    \n",
       "\n",
       "    \n",
       "\n",
       "\n",
       "\n"
      ],
      "text/plain": [
       "<IPython.core.display.HTML object>"
      ]
     },
     "execution_count": 101,
     "metadata": {},
     "output_type": "execute_result"
    }
   ],
   "source": [
    "#feature importance ranking\n",
    "#there are good death features but no good predictors for living, meaning living, from a group perspective, is indiscriminate but dying is biased\n",
    "#It's like the Titanic chopped down the bigger classes and leveled em\n",
    "eli5.show_weights(lr, feature_names=list(X_train.columns))"
   ]
  },
  {
   "cell_type": "code",
   "execution_count": 111,
   "id": "elder-island",
   "metadata": {},
   "outputs": [
    {
     "name": "stdout",
     "output_type": "stream",
     "text": [
      "pclass\n",
      "3    491\n",
      "1    214\n",
      "2    184\n",
      "dtype: int64\n",
      "pclass\n",
      "1    134\n",
      "3    119\n",
      "2     87\n",
      "dtype: int64\n",
      "pclass\n",
      "3    372\n",
      "2     97\n",
      "1     80\n",
      "dtype: int64\n"
     ]
    }
   ],
   "source": [
    "print(df.value_counts(\"pclass\"))\n",
    "#In fact, this is true. The survivors are much more balanced than than the original boarders.\n",
    "print(df[df.survived==1].value_counts(\"pclass\"))\n",
    "print(df[df.survived==0].value_counts(\"pclass\"))"
   ]
  },
  {
   "cell_type": "code",
   "execution_count": 112,
   "id": "located-yeast",
   "metadata": {},
   "outputs": [
    {
     "name": "stdout",
     "output_type": "stream",
     "text": [
      "sex\n",
      "male      577\n",
      "female    312\n",
      "dtype: int64\n",
      "sex\n",
      "female    231\n",
      "male      109\n",
      "dtype: int64\n",
      "sex\n",
      "male      468\n",
      "female     81\n",
      "dtype: int64\n"
     ]
    }
   ],
   "source": [
    "print(df.value_counts(\"sex\"))\n",
    "#A lot more men got on the doomed ship. By the end women outnumbered them 2 to 1.\n",
    "print(df[df.survived==1].value_counts(\"sex\"))\n",
    "print(df[df.survived==0].value_counts(\"sex\"))"
   ]
  },
  {
   "cell_type": "code",
   "execution_count": 93,
   "id": "visible-karaoke",
   "metadata": {},
   "outputs": [
    {
     "data": {
      "image/png": "[encoded data removed]",
      "text/plain": [
       "<Figure size 432x288 with 2 Axes>"
      ]
     },
     "metadata": {
      "needs_background": "light"
     },
     "output_type": "display_data"
    }
   ],
   "source": [
    "plot_confusion_matrix(lr, X_dev, y_dev, cmap='copper_r');"
   ]
  },
  {
   "cell_type": "code",
   "execution_count": 94,
   "id": "joined-shield",
   "metadata": {},
   "outputs": [
    {
     "data": {
      "image/png": "[encoded data removed]",
      "text/plain": [
       "<Figure size 432x288 with 1 Axes>"
      ]
     },
     "metadata": {
      "needs_background": "light"
     },
     "output_type": "display_data"
    }
   ],
   "source": [
    "#tpr(sensitivity) and tnr(specificity)\n",
    "plot_roc_curve(lr, X_dev, y_dev); #AUC = .86"
   ]
  },
  {
   "cell_type": "code",
   "execution_count": 95,
   "id": "according-winner",
   "metadata": {},
   "outputs": [
    {
     "data": {
      "text/plain": [
       "Index(['passenger_id', 'age', 'sibsp', 'parch', 'fare', 'alone', 'sex_male',\n",
       "       'embarked_Q', 'embarked_S', 'class_Second', 'class_Third'],\n",
       "      dtype='object')"
      ]
     },
     "execution_count": 95,
     "metadata": {},
     "output_type": "execute_result"
    }
   ],
   "source": [
    "X_train.columns"
   ]
  },
  {
   "cell_type": "code",
   "execution_count": 97,
   "id": "burning-grounds",
   "metadata": {},
   "outputs": [],
   "source": [
    "vars=['class_Third','age', 'fare']\n",
    "small_train, small_dev = X_train[vars], X_dev[vars]"
   ]
  },
  {
   "cell_type": "code",
   "execution_count": 98,
   "id": "passive-inside",
   "metadata": {},
   "outputs": [
    {
     "data": {
      "text/plain": [
       "0.695364238410596"
      ]
     },
     "execution_count": 98,
     "metadata": {},
     "output_type": "execute_result"
    }
   ],
   "source": [
    "#predicitng with 3 features is better than baseline\n",
    "lr2 = LogisticRegression(random_state=36)\n",
    "lr2.fit(small_train, y_train)\n",
    "lr2.score(small_dev, y_dev)"
   ]
  },
  {
   "cell_type": "code",
   "execution_count": 99,
   "id": "chronic-spirituality",
   "metadata": {},
   "outputs": [],
   "source": [
    "vars=['class_Third','age', 'fare', 'sex_male']\n",
    "small_train, small_dev = X_train[vars], X_dev[vars]"
   ]
  },
  {
   "cell_type": "code",
   "execution_count": 100,
   "id": "amended-chick",
   "metadata": {},
   "outputs": [
    {
     "data": {
      "text/plain": [
       "0.8211920529801324"
      ]
     },
     "execution_count": 100,
     "metadata": {},
     "output_type": "execute_result"
    }
   ],
   "source": [
    "#predicitng with 4 features is much better than baseline\n",
    "lr2 = LogisticRegression(random_state=36)\n",
    "lr2.fit(small_train, y_train)\n",
    "lr2.score(small_dev, y_dev)"
   ]
  },
  {
   "cell_type": "code",
   "execution_count": null,
   "id": "incorrect-incentive",
   "metadata": {},
   "outputs": [],
   "source": []
  }
 ],
 "metadata": {
  "kernelspec": {
   "display_name": "Python 3",
   "language": "python",
   "name": "python3"
  },
  "language_info": {
   "codemirror_mode": {
    "name": "ipython",
    "version": 3
   },
   "file_extension": ".py",
   "mimetype": "text/x-python",
   "name": "python",
   "nbconvert_exporter": "python",
   "pygments_lexer": "ipython3",
   "version": "3.8.5"
  }
 },
 "nbformat": 4,
 "nbformat_minor": 5
}
